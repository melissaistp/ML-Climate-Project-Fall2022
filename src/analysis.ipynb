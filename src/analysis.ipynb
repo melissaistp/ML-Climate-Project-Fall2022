{
 "cells": [
  {
   "cell_type": "code",
   "execution_count": 1,
   "metadata": {},
   "outputs": [],
   "source": [
    "import pandas as pd\n",
    "import numpy as np\n",
    "\n",
    "# Plotting and correlation\n",
    "import matplotlib.pyplot as plt\n",
    "import seaborn as sns\n",
    "from scipy.stats import linregress\n",
    "from scipy import stats\n",
    "\n",
    "# Model\n",
    "from sklearn.model_selection import train_test_split\n",
    "from sklearn.ensemble import RandomForestRegressor\n",
    "from sklearn.model_selection import train_test_split\n",
    "from sklearn.model_selection import RandomizedSearchCV\n",
    "from sklearn.metrics import r2_score\n",
    "from sklearn.linear_model import LogisticRegression\n",
    "from sklearn.ensemble import GradientBoostingRegressor\n",
    "\n",
    "import warnings\n",
    "warnings.filterwarnings('ignore')"
   ]
  },
  {
   "cell_type": "markdown",
   "metadata": {},
   "source": [
    "**Predicting monthly emissions based on electricity demand**"
   ]
  },
  {
   "cell_type": "code",
   "execution_count": 39,
   "metadata": {},
   "outputs": [
    {
     "name": "stdout",
     "output_type": "stream",
     "text": [
      "shape: (96, 4)\n"
     ]
    },
    {
     "data": {
      "text/html": [
       "<div>\n",
       "<style scoped>\n",
       "    .dataframe tbody tr th:only-of-type {\n",
       "        vertical-align: middle;\n",
       "    }\n",
       "\n",
       "    .dataframe tbody tr th {\n",
       "        vertical-align: top;\n",
       "    }\n",
       "\n",
       "    .dataframe thead th {\n",
       "        text-align: right;\n",
       "    }\n",
       "</style>\n",
       "<table border=\"1\" class=\"dataframe\">\n",
       "  <thead>\n",
       "    <tr style=\"text-align: right;\">\n",
       "      <th></th>\n",
       "      <th>date</th>\n",
       "      <th>demand</th>\n",
       "      <th>emissions</th>\n",
       "      <th>date_idx</th>\n",
       "    </tr>\n",
       "  </thead>\n",
       "  <tbody>\n",
       "    <tr>\n",
       "      <th>0</th>\n",
       "      <td>202112</td>\n",
       "      <td>11489598.82</td>\n",
       "      <td>4959996.71</td>\n",
       "      <td>95</td>\n",
       "    </tr>\n",
       "    <tr>\n",
       "      <th>1</th>\n",
       "      <td>202111</td>\n",
       "      <td>10731961.28</td>\n",
       "      <td>4365100.13</td>\n",
       "      <td>94</td>\n",
       "    </tr>\n",
       "    <tr>\n",
       "      <th>2</th>\n",
       "      <td>202110</td>\n",
       "      <td>12062383.69</td>\n",
       "      <td>4577134.35</td>\n",
       "      <td>93</td>\n",
       "    </tr>\n",
       "    <tr>\n",
       "      <th>3</th>\n",
       "      <td>202109</td>\n",
       "      <td>13537589.39</td>\n",
       "      <td>5070292.57</td>\n",
       "      <td>92</td>\n",
       "    </tr>\n",
       "    <tr>\n",
       "      <th>4</th>\n",
       "      <td>202108</td>\n",
       "      <td>15754584.69</td>\n",
       "      <td>5607233.68</td>\n",
       "      <td>91</td>\n",
       "    </tr>\n",
       "  </tbody>\n",
       "</table>\n",
       "</div>"
      ],
      "text/plain": [
       "     date       demand   emissions  date_idx\n",
       "0  202112  11489598.82  4959996.71        95\n",
       "1  202111  10731961.28  4365100.13        94\n",
       "2  202110  12062383.69  4577134.35        93\n",
       "3  202109  13537589.39  5070292.57        92\n",
       "4  202108  15754584.69  5607233.68        91"
      ]
     },
     "execution_count": 39,
     "metadata": {},
     "output_type": "execute_result"
    }
   ],
   "source": [
    "fuel_types = ['electric','plug-in hybrid electric','fuel cell','diesel','flex fuel','gasoline','gasoline hybrid','natural gas','propane']\n",
    "\n",
    "# CA monthly CO2 emissions and demand\n",
    "\n",
    "df = pd.read_csv('data/monthly_all_data.csv')\n",
    "df.drop(['Unnamed: 0'], axis=1, inplace=True)\n",
    "df = df.drop(columns=fuel_types)\n",
    "\n",
    "print(f\"shape: {df.shape}\")\n",
    "df.head()"
   ]
  },
  {
   "cell_type": "code",
   "execution_count": 40,
   "metadata": {},
   "outputs": [
    {
     "data": {
      "image/png": "[encoded data removed]",
      "text/plain": [
       "<Figure size 640x480 with 1 Axes>"
      ]
     },
     "metadata": {},
     "output_type": "display_data"
    },
    {
     "name": "stdout",
     "output_type": "stream",
     "text": [
      "Correlation coefficient: 0.7392691356865783\n"
     ]
    }
   ],
   "source": [
    "X = df[\"demand\"]\n",
    "y = df[\"emissions\"]\n",
    "\n",
    "slope, intercept, r, p, std_err = stats.linregress(X, y)\n",
    "\n",
    "def lin_func(X):\n",
    "  return slope * X + intercept\n",
    "\n",
    "linreg_model = list(map(lin_func, X))\n",
    "\n",
    "plt.scatter(X, y)\n",
    "plt.plot(X, linreg_model)\n",
    "plt.show()\n",
    "\n",
    "print(f'Correlation coefficient: {r}')"
   ]
  },
  {
   "cell_type": "markdown",
   "metadata": {},
   "source": [
    "**Predicting vehicle type distribution**"
   ]
  },
  {
   "cell_type": "code",
   "execution_count": 41,
   "metadata": {},
   "outputs": [
    {
     "name": "stdout",
     "output_type": "stream",
     "text": [
      "shape: (96, 8)\n"
     ]
    },
    {
     "data": {
      "text/html": [
       "<div>\n",
       "<style scoped>\n",
       "    .dataframe tbody tr th:only-of-type {\n",
       "        vertical-align: middle;\n",
       "    }\n",
       "\n",
       "    .dataframe tbody tr th {\n",
       "        vertical-align: top;\n",
       "    }\n",
       "\n",
       "    .dataframe thead th {\n",
       "        text-align: right;\n",
       "    }\n",
       "</style>\n",
       "<table border=\"1\" class=\"dataframe\">\n",
       "  <thead>\n",
       "    <tr style=\"text-align: right;\">\n",
       "      <th></th>\n",
       "      <th>date_idx</th>\n",
       "      <th>electric</th>\n",
       "      <th>plug-in hybrid electric</th>\n",
       "      <th>fuel cell</th>\n",
       "      <th>diesel</th>\n",
       "      <th>flex fuel</th>\n",
       "      <th>gasoline</th>\n",
       "      <th>gasoline hybrid</th>\n",
       "    </tr>\n",
       "  </thead>\n",
       "  <tbody>\n",
       "    <tr>\n",
       "      <th>0</th>\n",
       "      <td>95</td>\n",
       "      <td>522436</td>\n",
       "      <td>305309</td>\n",
       "      <td>10117</td>\n",
       "      <td>590218</td>\n",
       "      <td>1208964</td>\n",
       "      <td>25998612</td>\n",
       "      <td>1298265</td>\n",
       "    </tr>\n",
       "    <tr>\n",
       "      <th>1</th>\n",
       "      <td>94</td>\n",
       "      <td>509680</td>\n",
       "      <td>301459</td>\n",
       "      <td>9868</td>\n",
       "      <td>599397</td>\n",
       "      <td>1203595</td>\n",
       "      <td>25917176</td>\n",
       "      <td>1286366</td>\n",
       "    </tr>\n",
       "    <tr>\n",
       "      <th>2</th>\n",
       "      <td>93</td>\n",
       "      <td>496924</td>\n",
       "      <td>297609</td>\n",
       "      <td>9619</td>\n",
       "      <td>608576</td>\n",
       "      <td>1198226</td>\n",
       "      <td>25835740</td>\n",
       "      <td>1274467</td>\n",
       "    </tr>\n",
       "    <tr>\n",
       "      <th>3</th>\n",
       "      <td>92</td>\n",
       "      <td>484168</td>\n",
       "      <td>293759</td>\n",
       "      <td>9370</td>\n",
       "      <td>617755</td>\n",
       "      <td>1192857</td>\n",
       "      <td>25754304</td>\n",
       "      <td>1262568</td>\n",
       "    </tr>\n",
       "    <tr>\n",
       "      <th>4</th>\n",
       "      <td>91</td>\n",
       "      <td>471412</td>\n",
       "      <td>289909</td>\n",
       "      <td>9121</td>\n",
       "      <td>626934</td>\n",
       "      <td>1187488</td>\n",
       "      <td>25672868</td>\n",
       "      <td>1250669</td>\n",
       "    </tr>\n",
       "  </tbody>\n",
       "</table>\n",
       "</div>"
      ],
      "text/plain": [
       "   date_idx  electric  plug-in hybrid electric  fuel cell  diesel  flex fuel  \\\n",
       "0        95    522436                   305309      10117  590218    1208964   \n",
       "1        94    509680                   301459       9868  599397    1203595   \n",
       "2        93    496924                   297609       9619  608576    1198226   \n",
       "3        92    484168                   293759       9370  617755    1192857   \n",
       "4        91    471412                   289909       9121  626934    1187488   \n",
       "\n",
       "   gasoline  gasoline hybrid  \n",
       "0  25998612          1298265  \n",
       "1  25917176          1286366  \n",
       "2  25835740          1274467  \n",
       "3  25754304          1262568  \n",
       "4  25672868          1250669  "
      ]
     },
     "execution_count": 41,
     "metadata": {},
     "output_type": "execute_result"
    }
   ],
   "source": [
    "fuel_types = ['electric','plug-in hybrid electric','fuel cell','diesel','flex fuel','gasoline','gasoline hybrid']\n",
    "\n",
    "# CA hourly CO2 emissions and demand\n",
    "\n",
    "df = pd.read_csv('data/monthly_all_data.csv')\n",
    "df.drop(['Unnamed: 0','emissions','demand','date','natural gas','propane'], axis=1, inplace=True)\n",
    "\n",
    "print(f\"shape: {df.shape}\")\n",
    "df.head()"
   ]
  },
  {
   "cell_type": "code",
   "execution_count": 46,
   "metadata": {},
   "outputs": [],
   "source": [
    "def predict_car_distribution(NUM_ELECTRIC):\n",
    "    # disregard propane as its quantity is negligible and natural gas due to it staying stable over time\n",
    "    predictions = {\n",
    "            'electric': NUM_ELECTRIC\n",
    "        }\n",
    "    for fuel in fuel_types:\n",
    "        if fuel != 'electric' and fuel != 'propane' and fuel != 'natural gas':\n",
    "            X = df[\"electric\"]\n",
    "            y = df[fuel]\n",
    "            poly_model = np.poly1d(np.polyfit(X, y, 4))\n",
    "            num_vehicles = int(poly_model(NUM_ELECTRIC))\n",
    "            if num_vehicles < 0:\n",
    "                num_vehicles = 0\n",
    "            predictions[fuel] = num_vehicles\n",
    "    return predictions"
   ]
  },
  {
   "cell_type": "code",
   "execution_count": 64,
   "metadata": {},
   "outputs": [
    {
     "data": {
      "text/plain": [
       "{'electric': 4004360,\n",
       " 'plug-in hybrid electric': 2970082398,\n",
       " 'fuel cell': 299646601,\n",
       " 'diesel': 0,\n",
       " 'flex fuel': 2273305273,\n",
       " 'gasoline': 195173672446,\n",
       " 'gasoline hybrid': 1378261183}"
      ]
     },
     "execution_count": 64,
     "metadata": {},
     "output_type": "execute_result"
    }
   ],
   "source": [
    "NUM_ELECTRIC = 400436\n",
    "vehicle_distribution = predict_car_distribution(NUM_ELECTRIC)\n",
    "vehicle_distribution"
   ]
  },
  {
   "cell_type": "code",
   "execution_count": 54,
   "metadata": {},
   "outputs": [
    {
     "data": {
      "image/png": "[encoded data removed]",
      "text/plain": [
       "<Figure size 640x480 with 1 Axes>"
      ]
     },
     "metadata": {},
     "output_type": "display_data"
    }
   ],
   "source": [
    "fuel_type = list(vehicle_distribution.keys())\n",
    "num_vehicles = list(vehicle_distribution.values())\n",
    "\n",
    "plt.bar(range(len(vehicle_distribution)), num_vehicles, tick_label=fuel_type)\n",
    "plt.xticks(rotation=90)\n",
    "plt.show()"
   ]
  },
  {
   "cell_type": "markdown",
   "metadata": {},
   "source": [
    "**Predicting emissions based on vehicle type distribution**"
   ]
  },
  {
   "cell_type": "code",
   "execution_count": 55,
   "metadata": {},
   "outputs": [
    {
     "name": "stdout",
     "output_type": "stream",
     "text": [
      "shape: (96, 11)\n"
     ]
    },
    {
     "data": {
      "text/html": [
       "<div>\n",
       "<style scoped>\n",
       "    .dataframe tbody tr th:only-of-type {\n",
       "        vertical-align: middle;\n",
       "    }\n",
       "\n",
       "    .dataframe tbody tr th {\n",
       "        vertical-align: top;\n",
       "    }\n",
       "\n",
       "    .dataframe thead th {\n",
       "        text-align: right;\n",
       "    }\n",
       "</style>\n",
       "<table border=\"1\" class=\"dataframe\">\n",
       "  <thead>\n",
       "    <tr style=\"text-align: right;\">\n",
       "      <th></th>\n",
       "      <th>date</th>\n",
       "      <th>demand</th>\n",
       "      <th>emissions</th>\n",
       "      <th>date_idx</th>\n",
       "      <th>electric</th>\n",
       "      <th>plug-in hybrid electric</th>\n",
       "      <th>fuel cell</th>\n",
       "      <th>diesel</th>\n",
       "      <th>flex fuel</th>\n",
       "      <th>gasoline</th>\n",
       "      <th>gasoline hybrid</th>\n",
       "    </tr>\n",
       "  </thead>\n",
       "  <tbody>\n",
       "    <tr>\n",
       "      <th>0</th>\n",
       "      <td>202112</td>\n",
       "      <td>11489598.82</td>\n",
       "      <td>4959996.71</td>\n",
       "      <td>95</td>\n",
       "      <td>522436</td>\n",
       "      <td>305309</td>\n",
       "      <td>10117</td>\n",
       "      <td>590218</td>\n",
       "      <td>1208964</td>\n",
       "      <td>25998612</td>\n",
       "      <td>1298265</td>\n",
       "    </tr>\n",
       "    <tr>\n",
       "      <th>1</th>\n",
       "      <td>202111</td>\n",
       "      <td>10731961.28</td>\n",
       "      <td>4365100.13</td>\n",
       "      <td>94</td>\n",
       "      <td>509680</td>\n",
       "      <td>301459</td>\n",
       "      <td>9868</td>\n",
       "      <td>599397</td>\n",
       "      <td>1203595</td>\n",
       "      <td>25917176</td>\n",
       "      <td>1286366</td>\n",
       "    </tr>\n",
       "    <tr>\n",
       "      <th>2</th>\n",
       "      <td>202110</td>\n",
       "      <td>12062383.69</td>\n",
       "      <td>4577134.35</td>\n",
       "      <td>93</td>\n",
       "      <td>496924</td>\n",
       "      <td>297609</td>\n",
       "      <td>9619</td>\n",
       "      <td>608576</td>\n",
       "      <td>1198226</td>\n",
       "      <td>25835740</td>\n",
       "      <td>1274467</td>\n",
       "    </tr>\n",
       "    <tr>\n",
       "      <th>3</th>\n",
       "      <td>202109</td>\n",
       "      <td>13537589.39</td>\n",
       "      <td>5070292.57</td>\n",
       "      <td>92</td>\n",
       "      <td>484168</td>\n",
       "      <td>293759</td>\n",
       "      <td>9370</td>\n",
       "      <td>617755</td>\n",
       "      <td>1192857</td>\n",
       "      <td>25754304</td>\n",
       "      <td>1262568</td>\n",
       "    </tr>\n",
       "    <tr>\n",
       "      <th>4</th>\n",
       "      <td>202108</td>\n",
       "      <td>15754584.69</td>\n",
       "      <td>5607233.68</td>\n",
       "      <td>91</td>\n",
       "      <td>471412</td>\n",
       "      <td>289909</td>\n",
       "      <td>9121</td>\n",
       "      <td>626934</td>\n",
       "      <td>1187488</td>\n",
       "      <td>25672868</td>\n",
       "      <td>1250669</td>\n",
       "    </tr>\n",
       "  </tbody>\n",
       "</table>\n",
       "</div>"
      ],
      "text/plain": [
       "     date       demand   emissions  date_idx  electric  \\\n",
       "0  202112  11489598.82  4959996.71        95    522436   \n",
       "1  202111  10731961.28  4365100.13        94    509680   \n",
       "2  202110  12062383.69  4577134.35        93    496924   \n",
       "3  202109  13537589.39  5070292.57        92    484168   \n",
       "4  202108  15754584.69  5607233.68        91    471412   \n",
       "\n",
       "   plug-in hybrid electric  fuel cell  diesel  flex fuel  gasoline  \\\n",
       "0                   305309      10117  590218    1208964  25998612   \n",
       "1                   301459       9868  599397    1203595  25917176   \n",
       "2                   297609       9619  608576    1198226  25835740   \n",
       "3                   293759       9370  617755    1192857  25754304   \n",
       "4                   289909       9121  626934    1187488  25672868   \n",
       "\n",
       "   gasoline hybrid  \n",
       "0          1298265  \n",
       "1          1286366  \n",
       "2          1274467  \n",
       "3          1262568  \n",
       "4          1250669  "
      ]
     },
     "execution_count": 55,
     "metadata": {},
     "output_type": "execute_result"
    }
   ],
   "source": [
    "# CA hourly CO2 emissions and demand\n",
    "\n",
    "df = pd.read_csv('data/monthly_all_data.csv')\n",
    "df.drop(['Unnamed: 0','natural gas','propane'], axis=1, inplace=True)\n",
    "\n",
    "print(f\"shape: {df.shape}\")\n",
    "df.head()"
   ]
  },
  {
   "cell_type": "code",
   "execution_count": 58,
   "metadata": {},
   "outputs": [
    {
     "name": "stdout",
     "output_type": "stream",
     "text": [
      "Training data score: 0.9017343972408203\n",
      "Testing data score: 0.6593286307177751\n"
     ]
    }
   ],
   "source": [
    "# Model\n",
    "\n",
    "X = df.drop([\"emissions\",\"demand\",\"date\",\"date_idx\"], axis=1)\n",
    "y = df[\"emissions\"]\n",
    "\n",
    "X_train, X_test, y_train, y_test = train_test_split(X, y, test_size=0.2, random_state=0)\n",
    "\n",
    "distribution = {\n",
    "         'n_estimators': [2,3,5,10,20,30,50,100,200] ,  \n",
    "         'max_features': ['log2','sqrt','auto'],\n",
    "         'max_depth': [3,5,7,9,12] ,\n",
    "         'min_samples_split': [2,4,6,8,10,15,20,30] ,\n",
    "         'min_samples_leaf': [1,3,4,6,10,15,17]\n",
    "       }\n",
    "\n",
    "random_forest = RandomForestRegressor()\n",
    "rscv = RandomizedSearchCV(estimator = random_forest, param_distributions = distribution, n_iter = 80)                \n",
    "rscv.fit(X_train,  y_train)\n",
    "\n",
    "print(f'Training data score: {rscv.score(X_train,  y_train)}')\n",
    "print(f'Testing data score: {rscv.score(X_test, y_test)}')\n"
   ]
  },
  {
   "cell_type": "code",
   "execution_count": 62,
   "metadata": {},
   "outputs": [],
   "source": [
    "def predict_emissions(rscv, vehicle_distribution):\n",
    "    prediction = rscv.predict([[\n",
    "        vehicle_distribution['electric'],\n",
    "        vehicle_distribution['plug-in hybrid electric'],\n",
    "        vehicle_distribution['fuel cell'],\n",
    "        vehicle_distribution['diesel'],\n",
    "        vehicle_distribution['flex fuel'],\n",
    "        vehicle_distribution['gasoline'],\n",
    "        vehicle_distribution['gasoline hybrid'],\n",
    "    ]])[0]\n",
    "    return prediction"
   ]
  },
  {
   "cell_type": "code",
   "execution_count": 68,
   "metadata": {},
   "outputs": [
    {
     "name": "stdout",
     "output_type": "stream",
     "text": [
      "The predicted monthly emissions in California given a distribution of vehicles is 5073536 megatons of CO2\n"
     ]
    }
   ],
   "source": [
    "prediction = predict_emissions(rscv, vehicle_distribution)\n",
    "print(f'The predicted monthly emissions in California given a distribution of vehicles is {int(prediction)} megatons of CO2')"
   ]
  }
 ],
 "metadata": {
  "kernelspec": {
   "display_name": "Python 3.9.6 64-bit",
   "language": "python",
   "name": "python3"
  },
  "language_info": {
   "codemirror_mode": {
    "name": "ipython",
    "version": 3
   },
   "file_extension": ".py",
   "mimetype": "text/x-python",
   "name": "python",
   "nbconvert_exporter": "python",
   "pygments_lexer": "ipython3",
   "version": "3.9.6"
  },
  "orig_nbformat": 4,
  "vscode": {
   "interpreter": {
    "hash": "31f2aee4e71d21fbe5cf8b01ff0e069b9275f58929596ceb00d14d90e3e16cd6"
   }
  }
 },
 "nbformat": 4,
 "nbformat_minor": 2
}
