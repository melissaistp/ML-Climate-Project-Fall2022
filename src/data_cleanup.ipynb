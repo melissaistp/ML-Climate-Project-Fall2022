{
 "cells": [
  {
   "cell_type": "code",
   "execution_count": 86,
   "metadata": {},
   "outputs": [],
   "source": [
    "import pandas as pd\n",
    "import numpy as np\n",
    "import os"
   ]
  },
  {
   "cell_type": "code",
   "execution_count": 173,
   "metadata": {},
   "outputs": [
    {
     "name": "stderr",
     "output_type": "stream",
     "text": [
      "/var/folders/_8/5w6s7qdn2tn4_tq1r88gqw040000gn/T/ipykernel_92568/2916958705.py:8: DtypeWarning: Columns (1) have mixed types. Specify dtype option on import or set low_memory=False.\n",
      "  total_ca_num_evs = pd.read_csv('data/ca_ev_registrations_all.csv')\n"
     ]
    }
   ],
   "source": [
    "# CA hourly electricity consumption in MWh, 2015-2022\n",
    "ca_hourly_demand = pd.read_csv('data/ca_hourly_demand.csv')\n",
    "\n",
    "# CA monthly CO2 emissions in MTCO2, 2014-2022\n",
    "ca_monthly_emissions = pd.read_csv('data/ca_co2_emissions_monthly.csv')\n",
    "\n",
    "# CA total EV registrations, 2010-2020\n",
    "total_ca_num_evs = pd.read_csv('data/ca_ev_registrations_all.csv')\n",
    "\n",
    "# CA yearly EV registrations, 2010-2020\n",
    "ca_num_evs = pd.read_csv('data/ca_ev_yearly_registrations.csv')"
   ]
  },
  {
   "cell_type": "code",
   "execution_count": 172,
   "metadata": {},
   "outputs": [
    {
     "data": {
      "text/html": [
       "<div>\n",
       "<style scoped>\n",
       "    .dataframe tbody tr th:only-of-type {\n",
       "        vertical-align: middle;\n",
       "    }\n",
       "\n",
       "    .dataframe tbody tr th {\n",
       "        vertical-align: top;\n",
       "    }\n",
       "\n",
       "    .dataframe thead th {\n",
       "        text-align: right;\n",
       "    }\n",
       "</style>\n",
       "<table border=\"1\" class=\"dataframe\">\n",
       "  <thead>\n",
       "    <tr style=\"text-align: right;\">\n",
       "      <th></th>\n",
       "      <th>date</th>\n",
       "      <th>demand</th>\n",
       "      <th>emissions</th>\n",
       "      <th>registered EVs</th>\n",
       "    </tr>\n",
       "  </thead>\n",
       "  <tbody>\n",
       "    <tr>\n",
       "      <th>0</th>\n",
       "      <td>20221127T23Z</td>\n",
       "      <td>23637</td>\n",
       "      <td>6655</td>\n",
       "      <td>test</td>\n",
       "    </tr>\n",
       "    <tr>\n",
       "      <th>1</th>\n",
       "      <td>20221127T22Z</td>\n",
       "      <td>23599</td>\n",
       "      <td>7323</td>\n",
       "      <td>test</td>\n",
       "    </tr>\n",
       "    <tr>\n",
       "      <th>2</th>\n",
       "      <td>20221127T21Z</td>\n",
       "      <td>23323</td>\n",
       "      <td>7393</td>\n",
       "      <td>test</td>\n",
       "    </tr>\n",
       "    <tr>\n",
       "      <th>3</th>\n",
       "      <td>20221127T20Z</td>\n",
       "      <td>23718</td>\n",
       "      <td>7321</td>\n",
       "      <td>test</td>\n",
       "    </tr>\n",
       "    <tr>\n",
       "      <th>4</th>\n",
       "      <td>20221127T19Z</td>\n",
       "      <td>25038</td>\n",
       "      <td>7519</td>\n",
       "      <td>test</td>\n",
       "    </tr>\n",
       "  </tbody>\n",
       "</table>\n",
       "</div>"
      ],
      "text/plain": [
       "           date  demand emissions registered EVs\n",
       "0  20221127T23Z   23637      6655           test\n",
       "1  20221127T22Z   23599      7323           test\n",
       "2  20221127T21Z   23323      7393           test\n",
       "3  20221127T20Z   23718      7321           test\n",
       "4  20221127T19Z   25038      7519           test"
      ]
     },
     "execution_count": 172,
     "metadata": {},
     "output_type": "execute_result"
    }
   ],
   "source": [
    "DATE_START_IDX = 10\n",
    "DATE_END_IDX = 18\n",
    "all_data = ca_hourly_demand\n",
    "all_data[\"emissions\"] = \"\"\n",
    "all_data[\"registered EVs\"] = \"\"\n",
    "\n",
    "path_name = 'data/ca_co2_emissions_daily'\n",
    "cwd = os.path.abspath(path_name)\n",
    "file_list = os.listdir(cwd)\n",
    "\n",
    "# Add hourly emissions values from 5-minute interval files\n",
    "for file in file_list:\n",
    "    curr_daily_file = pd.read_csv(path_name + \"/\" + file)\n",
    "    curr_date = file[DATE_START_IDX:DATE_END_IDX]\n",
    "    curr_year = int(curr_date[0:4])\n",
    "    num_evs = 0\n",
    "    if curr_year in list(ca_num_evs[\"Registration Valid Date\"]):\n",
    "        num_evs = ca_num_evs.loc[ca_num_evs['Registration Valid Date'] == curr_year, 'Unique Vehicles'].tolist()[0]\n",
    "    for i in range(24):\n",
    "        string_hour = str(i)\n",
    "        if len(string_hour) < 2:\n",
    "            string_hour = \"0\" + string_hour\n",
    "        full_date = curr_date + \"T\" + string_hour + \"Z\"\n",
    "        all_data.loc[all_data['date'] == full_date, 'emissions'] = curr_daily_file[string_hour + \":00\"][0]\n",
    "        all_data.loc[all_data['date'] == full_date, 'registered EVs'] = num_evs\n",
    "\n",
    "all_data = all_data[all_data.emissions != \"\"]\n",
    "all_data.to_csv('data/all_data.csv')\n",
    "\n",
    "all_data.head()"
   ]
  }
 ],
 "metadata": {
  "kernelspec": {
   "display_name": "Python 3.9.6 64-bit",
   "language": "python",
   "name": "python3"
  },
  "language_info": {
   "codemirror_mode": {
    "name": "ipython",
    "version": 3
   },
   "file_extension": ".py",
   "mimetype": "text/x-python",
   "name": "python",
   "nbconvert_exporter": "python",
   "pygments_lexer": "ipython3",
   "version": "3.9.6"
  },
  "orig_nbformat": 4,
  "vscode": {
   "interpreter": {
    "hash": "31f2aee4e71d21fbe5cf8b01ff0e069b9275f58929596ceb00d14d90e3e16cd6"
   }
  }
 },
 "nbformat": 4,
 "nbformat_minor": 2
}
